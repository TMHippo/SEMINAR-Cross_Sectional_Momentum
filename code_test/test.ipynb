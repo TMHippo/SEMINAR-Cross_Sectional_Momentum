{
 "cells": [
  {
   "cell_type": "code",
   "execution_count": 1,
   "metadata": {},
   "outputs": [
    {
     "name": "stdout",
     "output_type": "stream",
     "text": [
      "Requirement already satisfied: pybit in c:\\users\\tranm\\appdata\\local\\programs\\python\\python312\\lib\\site-packages (5.8.0)\n",
      "Requirement already satisfied: requests in c:\\users\\tranm\\appdata\\local\\programs\\python\\python312\\lib\\site-packages (from pybit) (2.32.3)\n",
      "Requirement already satisfied: websocket-client in c:\\users\\tranm\\appdata\\local\\programs\\python\\python312\\lib\\site-packages (from pybit) (1.8.0)\n",
      "Requirement already satisfied: pycryptodome in c:\\users\\tranm\\appdata\\local\\programs\\python\\python312\\lib\\site-packages (from pybit) (3.21.0)\n",
      "Requirement already satisfied: charset-normalizer<4,>=2 in c:\\users\\tranm\\appdata\\local\\programs\\python\\python312\\lib\\site-packages (from requests->pybit) (3.4.0)\n",
      "Requirement already satisfied: idna<4,>=2.5 in c:\\users\\tranm\\appdata\\local\\programs\\python\\python312\\lib\\site-packages (from requests->pybit) (3.10)\n",
      "Requirement already satisfied: urllib3<3,>=1.21.1 in c:\\users\\tranm\\appdata\\local\\programs\\python\\python312\\lib\\site-packages (from requests->pybit) (2.2.3)\n",
      "Requirement already satisfied: certifi>=2017.4.17 in c:\\users\\tranm\\appdata\\local\\programs\\python\\python312\\lib\\site-packages (from requests->pybit) (2024.8.30)\n"
     ]
    }
   ],
   "source": [
    "!pip install pybit\n"
   ]
  },
  {
   "cell_type": "code",
   "execution_count": 2,
   "metadata": {},
   "outputs": [
    {
     "name": "stdout",
     "output_type": "stream",
     "text": [
      "{'retCode': 0, 'retMsg': 'OK', 'result': {'symbol': 'BTCUSD', 'category': 'inverse', 'list': [['1670608800000', '17071', '17073', '17027', '17055.5', '268611', '15.74462667'], ['1670605200000', '17071.5', '17071.5', '17061', '17071', '4177', '0.24469757'], ['1670601600000', '17086.5', '17088', '16978', '17071.5', '6356', '0.37288112']]}, 'retExtInfo': {}, 'time': 1729700686529}\n"
     ]
    }
   ],
   "source": [
    "from pybit.unified_trading import HTTP\n",
    "session = HTTP(testnet=True)\n",
    "print(session.get_kline(\n",
    "    category=\"inverse\",\n",
    "    symbol=\"BTCUSD\",\n",
    "    interval=60,\n",
    "    start=1670601600000,\n",
    "    end=1670608800000,\n",
    "))"
   ]
  },
  {
   "cell_type": "code",
   "execution_count": 8,
   "metadata": {},
   "outputs": [],
   "source": [
    "from pybit.unified_trading import HTTP\n",
    "import pandas as pd\n",
    "\n",
    "# Khởi tạo phiên làm việc với testnet\n",
    "session = HTTP(testnet=True)\n",
    "\n",
    "# Định nghĩa các tham số để lấy dữ liệu\n",
    "category = \"inverse\"\n",
    "symbol = \"BTCUSD\"\n",
    "interval = 60  # khoảng thời gian 60 phút\n",
    "start = 1670601600000  # thời gian bắt đầu (milliseconds)\n",
    "end = 1670608800000    # thời gian kết thúc (milliseconds)\n",
    "\n",
    "# Lấy dữ liệu nến\n",
    "response = session.get_kline(\n",
    "    category=category,\n",
    "    symbol=symbol,\n",
    "    interval=interval,\n",
    "    start=start,\n",
    "    end=end,\n",
    ")\n",
    "\n",
    "# Kiểm tra phản hồi và xử lý dữ liệu\n",
    "if response['result']:\n",
    "    # Chuyển đổi dữ liệu thành DataFrame\n",
    "    data = response['result']\n",
    "    df = pd.DataFrame(data)\n",
    "\n",
    "\n"
   ]
  },
  {
   "cell_type": "code",
   "execution_count": 49,
   "metadata": {},
   "outputs": [
    {
     "name": "stdout",
     "output_type": "stream",
     "text": [
      "                 Time (UTC+3)  Open Price  Highest Price  Lowest Price  \\\n",
      "0   2024-01-08 03:00:00+03:00     43946.0        44003.0       43656.5   \n",
      "1   2024-01-08 02:00:00+03:00     43893.5        44046.0       43636.5   \n",
      "2   2024-01-08 01:00:00+03:00     44259.5        44259.5       43813.0   \n",
      "3   2024-01-08 00:00:00+03:00     44147.5        44272.0       44146.5   \n",
      "4   2024-01-07 23:00:00+03:00     44262.0        44292.0       44147.5   \n",
      "..                        ...         ...            ...           ...   \n",
      "164 2024-01-01 07:00:00+03:00     42361.5        42427.5       42251.0   \n",
      "165 2024-01-01 06:00:00+03:00     42606.5        42617.0       42281.0   \n",
      "166 2024-01-01 05:00:00+03:00     42639.5        42657.0       42533.0   \n",
      "167 2024-01-01 04:00:00+03:00     42503.5        43500.0       42452.5   \n",
      "168 2024-01-01 03:00:00+03:00     42301.5        42566.5       42288.0   \n",
      "\n",
      "     Close Price  Trade Volume  \n",
      "0        43656.5    41759487.0  \n",
      "1        43946.0    56790177.0  \n",
      "2        43893.5    31541005.0  \n",
      "3        44259.5     9096632.0  \n",
      "4        44147.5     4753852.0  \n",
      "..           ...           ...  \n",
      "164      42422.5    31701987.0  \n",
      "165      42361.5    35639825.0  \n",
      "166      42606.5    17979753.0  \n",
      "167      42639.5    33680268.0  \n",
      "168      42503.5    39000428.0  \n",
      "\n",
      "[169 rows x 6 columns]\n"
     ]
    },
    {
     "name": "stderr",
     "output_type": "stream",
     "text": [
      "C:\\Users\\tranm\\AppData\\Local\\Temp\\ipykernel_27956\\2061953119.py:46: FutureWarning: The behavior of 'to_datetime' with 'unit' when parsing strings is deprecated. In a future version, strings will be parsed as datetime strings, matching the behavior without a 'unit'. To retain the old behavior, explicitly cast ints or floats to numeric type before calling to_datetime.\n",
      "  df['Time (UTC+3)'] = pd.to_datetime(df['Time (UTC+3)'], unit='ms').dt.tz_localize('UTC').dt.tz_convert('Etc/GMT-3')\n"
     ]
    }
   ],
   "source": [
    "from pybit.unified_trading import HTTP\n",
    "import pandas as pd\n",
    "from datetime import datetime\n",
    "\n",
    "# Khởi tạo phiên làm việc với testnet\n",
    "session = HTTP(testnet=True)\n",
    "\n",
    "# Định nghĩa các tham số để lấy dữ liệu\n",
    "category = \"inverse\"\n",
    "symbol = \"BTCUSD\"\n",
    "interval = 60  #khoảng thời gian 60 phút\n",
    "\n",
    "\n",
    "# Đặt thời gian bắt đầu và kết thúc\n",
    "start_date = \"2024-01-01\"\n",
    "end_date = \"2024-06-1\"  # Để bao gồm hết tháng 6\n",
    "\n",
    "# Chuyển đổi thời gian sang định dạng milliseconds\n",
    "start_timestamp = int(pd.Timestamp(start_date).timestamp() * 1000)  # milliseconds\n",
    "end_timestamp = int(pd.Timestamp(end_date).timestamp() * 1000)  # milliseconds\n",
    "\n",
    "start = start_timestamp  # thời gian bắt đầu (milliseconds)\n",
    "end = start_timestamp + 604800000    # thời gian kết thúc (milliseconds)\n",
    "\n",
    "\n",
    "\n",
    "# Lấy dữ liệu nến\n",
    "response = session.get_kline(\n",
    "    \n",
    "    category=category,\n",
    "    symbol=symbol,\n",
    "    interval=interval,\n",
    "    start=start,\n",
    "    end=end,\n",
    ")\n",
    "\n",
    "# Kiểm tra phản hồi và xử lý dữ liệu\n",
    "if response['retCode'] == 0 and 'list' in response['result']:\n",
    "    # Lấy danh sách nến\n",
    "    candles = response['result']['list']\n",
    "    \n",
    "    # Chuyển đổi dữ liệu thành DataFrame\n",
    "    df = pd.DataFrame(candles, columns=['Time (UTC+3)', 'Open Price', 'Highest Price', 'Lowest Price', 'Close Price', 'Trade Volume', 'Another Value'])\n",
    "\n",
    "    # Chuyển đổi cột thời gian từ milliseconds sang định dạng datetime\n",
    "    df['Time (UTC+3)'] = pd.to_datetime(df['Time (UTC+3)'], unit='ms').dt.tz_localize('UTC').dt.tz_convert('Etc/GMT-3')\n",
    "\n",
    "    # Chọn cột cần thiết\n",
    "    df = df[['Time (UTC+3)', 'Open Price', 'Highest Price', 'Lowest Price', 'Close Price', 'Trade Volume']]\n",
    "    \n",
    "    # Đổi kiểu dữ liệu cho các cột số\n",
    "    df[['Open Price', 'Highest Price', 'Lowest Price', 'Close Price', 'Trade Volume']] = df[['Open Price', 'Highest Price', 'Lowest Price', 'Close Price', 'Trade Volume']].astype(float)\n",
    "\n",
    "    # Hiển thị DataFrame\n",
    "    print(df)\n",
    "else:\n",
    "    print(\"Không có dữ liệu nến hoặc có lỗi trong phản hồi.\")\n"
   ]
  }
 ],
 "metadata": {
  "kernelspec": {
   "display_name": "Python 3",
   "language": "python",
   "name": "python3"
  },
  "language_info": {
   "codemirror_mode": {
    "name": "ipython",
    "version": 3
   },
   "file_extension": ".py",
   "mimetype": "text/x-python",
   "name": "python",
   "nbconvert_exporter": "python",
   "pygments_lexer": "ipython3",
   "version": "3.12.5"
  }
 },
 "nbformat": 4,
 "nbformat_minor": 2
}
