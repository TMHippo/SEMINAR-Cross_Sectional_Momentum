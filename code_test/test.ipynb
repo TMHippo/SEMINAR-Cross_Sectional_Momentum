{
 "cells": [
  {
   "cell_type": "code",
   "execution_count": 1,
   "metadata": {},
   "outputs": [],
   "source": [
    "import numpy as np\n",
    "import pandas as pd \n",
    "import yfinance as yf"
   ]
  },
  {
   "cell_type": "code",
   "execution_count": 5,
   "metadata": {},
   "outputs": [
    {
     "name": "stderr",
     "output_type": "stream",
     "text": [
      "[*********************100%***********************]  1 of 1 completed\n"
     ]
    }
   ],
   "source": [
    "data = yf.download('AAPL', start='2020-01-01', end='2023-01-01')"
   ]
  },
  {
   "cell_type": "code",
   "execution_count": 6,
   "metadata": {},
   "outputs": [],
   "source": [
    "data['Daily Return'] = data['Adj Close'].pct_change()"
   ]
  },
  {
   "cell_type": "code",
   "execution_count": 7,
   "metadata": {},
   "outputs": [],
   "source": [
    "avg_daily_return = data['Daily Return'].mean()\n",
    "std_daily_return = data['Daily Return'].std()"
   ]
  },
  {
   "cell_type": "code",
   "execution_count": 8,
   "metadata": {},
   "outputs": [],
   "source": [
    "risk_free_rate = 0.05"
   ]
  },
  {
   "cell_type": "code",
   "execution_count": 9,
   "metadata": {},
   "outputs": [
    {
     "name": "stdout",
     "output_type": "stream",
     "text": [
      "Annual Sharpe Ratio: 0.5632050871077906\n"
     ]
    }
   ],
   "source": [
    "sharpe_ratio = (avg_daily_return - risk_free_rate / 252) / std_daily_return\n",
    "annual_sharpe_ratio = sharpe_ratio * np.sqrt(252)\n",
    "print(f'Annual Sharpe Ratio: {annual_sharpe_ratio}')"
   ]
  },
  {
   "cell_type": "markdown",
   "metadata": {},
   "source": [
    "CROSS SECTIONAL MOMENTUM\n"
   ]
  },
  {
   "cell_type": "code",
   "execution_count": 11,
   "metadata": {},
   "outputs": [
    {
     "name": "stderr",
     "output_type": "stream",
     "text": [
      "[*********************100%***********************]  7 of 7 completed\n"
     ]
    }
   ],
   "source": [
    "# Tải dữ liệu của nhiều cổ phiếu (có thể thay đổi danh sách này)\n",
    "tickers = ['AAPL', 'MSFT', 'GOOGL', 'AMZN', 'TSLA', 'NFLX', 'META']\n",
    "\n",
    "data = yf.download(tickers, start='2020-01-01', end='2024-01-01')['Adj Close']\n",
    "\n",
    "# Tính toán lợi suất hàng ngày (daily returns)\n",
    "returns = data.pct_change().dropna()\n",
    "\n",
    "# Tính hiệu suất của mỗi cổ phiếu trong 12 tháng trước đó (252 ngày giao dịch)\n",
    "lookback_period = 252\n",
    "momentum_returns = returns.rolling(window=lookback_period).apply(np.sum)\n",
    "\n",
    "# Lấy dữ liệu hiệu suất của tháng gần nhất để xếp hạng\n",
    "momentum_last_month = momentum_returns.iloc[-1]"
   ]
  },
  {
   "cell_type": "code",
   "execution_count": 12,
   "metadata": {},
   "outputs": [
    {
     "name": "stdout",
     "output_type": "stream",
     "text": [
      "Winners (Buy): Index(['META', 'TSLA', 'AMZN'], dtype='object', name='Ticker')\n",
      "Losers (Sell): Index(['GOOGL', 'MSFT', 'AAPL'], dtype='object', name='Ticker')\n"
     ]
    }
   ],
   "source": [
    "# Xếp hạng các cổ phiếu dựa trên lợi suất trong 12 tháng trước đó\n",
    "top_n = 3  # Số cổ phiếu có hiệu suất tốt nhất\n",
    "bottom_n = 3  # Số cổ phiếu có hiệu suất kém nhất\n",
    "\n",
    "# Sắp xếp các cổ phiếu dựa trên hiệu suất\n",
    "ranked_stocks = momentum_last_month.sort_values(ascending=False)\n",
    "\n",
    "# Lựa chọn cổ phiếu tốt nhất và kém nhất\n",
    "winners = ranked_stocks.head(top_n).index  # Mua các cổ phiếu tốt nhất\n",
    "losers = ranked_stocks.tail(bottom_n).index  # Bán các cổ phiếu kém nhất\n",
    "\n",
    "print(f\"Winners (Buy): {winners}\")\n",
    "print(f\"Losers (Sell): {losers}\")\n"
   ]
  },
  {
   "cell_type": "code",
   "execution_count": 13,
   "metadata": {},
   "outputs": [
    {
     "name": "stdout",
     "output_type": "stream",
     "text": [
      "Lợi suất chiến lược cumulative return:\n",
      "Date\n",
      "2023-11-30 00:00:00+00:00    0.993866\n",
      "2023-12-01 00:00:00+00:00    0.995186\n",
      "2023-12-04 00:00:00+00:00    0.995240\n",
      "2023-12-05 00:00:00+00:00    0.988102\n",
      "2023-12-06 00:00:00+00:00    0.990439\n",
      "2023-12-07 00:00:00+00:00    0.987027\n",
      "2023-12-08 00:00:00+00:00    0.995383\n",
      "2023-12-11 00:00:00+00:00    0.989978\n",
      "2023-12-12 00:00:00+00:00    0.995441\n",
      "2023-12-13 00:00:00+00:00    0.996555\n",
      "2023-12-14 00:00:00+00:00    1.016969\n",
      "2023-12-15 00:00:00+00:00    1.022703\n",
      "2023-12-18 00:00:00+00:00    1.032893\n",
      "2023-12-19 00:00:00+00:00    1.040458\n",
      "2023-12-20 00:00:00+00:00    1.023911\n",
      "2023-12-21 00:00:00+00:00    1.035077\n",
      "2023-12-22 00:00:00+00:00    1.029120\n",
      "2023-12-26 00:00:00+00:00    1.036852\n",
      "2023-12-27 00:00:00+00:00    1.049296\n",
      "2023-12-28 00:00:00+00:00    1.037254\n",
      "2023-12-29 00:00:00+00:00    1.025889\n",
      "dtype: float64\n"
     ]
    }
   ],
   "source": [
    "# Tính lợi suất của nhóm cổ phiếu thắng (winners) và thua (losers) trong tháng tiếp theo\n",
    "future_returns = returns.iloc[-21:]  # Lợi suất trong tháng tiếp theo (21 ngày giao dịch)\n",
    "\n",
    "# Lợi nhuận trung bình của các cổ phiếu mua và bán\n",
    "winners_return = future_returns[winners].mean(axis=1)\n",
    "losers_return = future_returns[losers].mean(axis=1)\n",
    "\n",
    "# Lợi nhuận của chiến lược cross-sectional momentum\n",
    "momentum_strategy_return = winners_return - losers_return\n",
    "\n",
    "# Tổng lợi suất chiến lược\n",
    "cumulative_return = (1 + momentum_strategy_return).cumprod()\n",
    "\n",
    "print(f\"Lợi suất chiến lược cumulative return:\\n{cumulative_return}\")\n"
   ]
  }
 ],
 "metadata": {
  "kernelspec": {
   "display_name": ".venv",
   "language": "python",
   "name": "python3"
  },
  "language_info": {
   "codemirror_mode": {
    "name": "ipython",
    "version": 3
   },
   "file_extension": ".py",
   "mimetype": "text/x-python",
   "name": "python",
   "nbconvert_exporter": "python",
   "pygments_lexer": "ipython3",
   "version": "3.12.5"
  }
 },
 "nbformat": 4,
 "nbformat_minor": 2
}
