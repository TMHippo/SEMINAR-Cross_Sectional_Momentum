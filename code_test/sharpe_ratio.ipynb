{
 "cells": [
  {
   "cell_type": "code",
   "execution_count": 1,
   "metadata": {},
   "outputs": [],
   "source": [
    "import numpy as np\n",
    "import pandas  as pd\n",
    "import yfinance as yf \n"
   ]
  },
  {
   "cell_type": "code",
   "execution_count": 2,
   "metadata": {},
   "outputs": [],
   "source": [
    "rfr = 0.03"
   ]
  },
  {
   "cell_type": "code",
   "execution_count": 3,
   "metadata": {},
   "outputs": [],
   "source": [
    "russell = yf .Ticker('IWM')\n",
    "data_russell = russell.history(interval  ='1d',start = '2016-02-05' , end = '2022-02-01')"
   ]
  },
  {
   "cell_type": "code",
   "execution_count": 4,
   "metadata": {},
   "outputs": [],
   "source": [
    "russell_close = data_russell.Close\n",
    "russell_returns = np.log(russell_close).diff()\n",
    "russell_returns = russell_returns.dropna()\n"
   ]
  },
  {
   "cell_type": "code",
   "execution_count": 5,
   "metadata": {},
   "outputs": [],
   "source": [
    "russell_mean_returns = np.mean(russell_returns) *252\n",
    "russell_volatility =np.std(russell_returns)* np.sqrt(252)"
   ]
  },
  {
   "cell_type": "code",
   "execution_count": 6,
   "metadata": {},
   "outputs": [],
   "source": [
    "russell_sharpe_ratio = (russell_mean_returns-rfr)/russell_volatility"
   ]
  },
  {
   "cell_type": "code",
   "execution_count": 7,
   "metadata": {},
   "outputs": [
    {
     "name": "stderr",
     "output_type": "stream",
     "text": [
      "C:\\Users\\tranm\\AppData\\Local\\Temp\\ipykernel_17644\\561548395.py:1: FutureWarning: Series.__getitem__ treating keys as positions is deprecated. In a future version, integer keys will always be treated as labels (consistent with DataFrame behavior). To access a value by position, use `ser.iloc[pos]`\n",
      "  russell_total_return = russell_close[-1]/russell_close[0]\n"
     ]
    }
   ],
   "source": [
    "russell_total_return = russell_close[-1]/russell_close[0]"
   ]
  },
  {
   "cell_type": "code",
   "execution_count": 8,
   "metadata": {},
   "outputs": [
    {
     "name": "stdout",
     "output_type": "stream",
     "text": [
      "SPY 500 total return: 2.1686305700479735, SPY 500 sharpe ratio 0.6667077079993665\n",
      "russell 2000 total returns: 2.2182478253574387, russell 2000 sharpe ratio 0.44617566054094704\n"
     ]
    },
    {
     "name": "stderr",
     "output_type": "stream",
     "text": [
      "C:\\Users\\tranm\\AppData\\Local\\Temp\\ipykernel_17644\\2336710080.py:9: FutureWarning: Series.__getitem__ treating keys as positions is deprecated. In a future version, integer keys will always be treated as labels (consistent with DataFrame behavior). To access a value by position, use `ser.iloc[pos]`\n",
      "  spy_total_return = spy_close [-1] / spy_close[0]\n"
     ]
    }
   ],
   "source": [
    "\n",
    "spy = yf.Ticker('SPY') #SPDR S&P 500 ETF Trust (SPY)\n",
    "data_spy =spy.history(interval='1d', start='2016-02-05', end='2021-02-01')\n",
    "spy_close =data_spy.Close\n",
    "spy_returns = np.log(spy_close).diff()\n",
    "spy_returns = spy_returns.dropna()\n",
    "spy_mean_returns =np.mean(spy_returns) *252\n",
    "spy_volatility= np.std(spy_returns)* np.sqrt(252)\n",
    "spy_sharpe_ratio = (spy_mean_returns - rfr)/spy_volatility\n",
    "spy_total_return = spy_close [-1] / spy_close[0]\n",
    "print (f\"SPY 500 total return: {spy_total_return}, SPY 500 sharpe ratio {spy_sharpe_ratio}\")\n",
    "print(f\"russell 2000 total returns: {russell_total_return}, russell 2000 sharpe ratio {russell_sharpe_ratio}\")"
   ]
  },
  {
   "cell_type": "code",
   "execution_count": 10,
   "metadata": {},
   "outputs": [
    {
     "name": "stdout",
     "output_type": "stream",
     "text": [
      "\n",
      " Mean Reuturn Russell : 0.13322683432688243, Volatility return russell : 0.23135917858389982\n"
     ]
    }
   ],
   "source": [
    "print(f\"\\n Mean Reuturn Russell : {russell_mean_returns}, Volatility return russell : {russell_volatility}\")"
   ]
  }
 ],
 "metadata": {
  "kernelspec": {
   "display_name": "Python 3",
   "language": "python",
   "name": "python3"
  },
  "language_info": {
   "codemirror_mode": {
    "name": "ipython",
    "version": 3
   },
   "file_extension": ".py",
   "mimetype": "text/x-python",
   "name": "python",
   "nbconvert_exporter": "python",
   "pygments_lexer": "ipython3",
   "version": "3.12.5"
  }
 },
 "nbformat": 4,
 "nbformat_minor": 2
}
