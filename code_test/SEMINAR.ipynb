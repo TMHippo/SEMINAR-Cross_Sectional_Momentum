{
 "cells": [
  {
   "cell_type": "code",
   "execution_count": 2,
   "id": "1185197d-c547-492a-b9e1-dac058346d51",
   "metadata": {},
   "outputs": [
    {
     "name": "stdout",
     "output_type": "stream",
     "text": [
      "Collecting pybit\n",
      "  Using cached pybit-5.8.0-py2.py3-none-any.whl\n",
      "Requirement already satisfied: requests in c:\\users\\admin\\anaconda3\\lib\\site-packages (from pybit) (2.31.0)\n",
      "Requirement already satisfied: websocket-client in c:\\users\\admin\\anaconda3\\lib\\site-packages (from pybit) (0.58.0)\n",
      "Requirement already satisfied: pycryptodome in c:\\users\\admin\\anaconda3\\lib\\site-packages (from pybit) (3.20.0)\n",
      "Requirement already satisfied: charset-normalizer<4,>=2 in c:\\users\\admin\\anaconda3\\lib\\site-packages (from requests->pybit) (2.0.4)\n",
      "Requirement already satisfied: idna<4,>=2.5 in c:\\users\\admin\\anaconda3\\lib\\site-packages (from requests->pybit) (3.4)\n",
      "Requirement already satisfied: urllib3<3,>=1.21.1 in c:\\users\\admin\\anaconda3\\lib\\site-packages (from requests->pybit) (1.26.18)\n",
      "Requirement already satisfied: certifi>=2017.4.17 in c:\\users\\admin\\anaconda3\\lib\\site-packages (from requests->pybit) (2023.11.17)\n",
      "Requirement already satisfied: six in c:\\users\\admin\\anaconda3\\lib\\site-packages (from websocket-client->pybit) (1.16.0)\n",
      "Installing collected packages: pybit\n",
      "Successfully installed pybit-5.8.0\n"
     ]
    }
   ],
   "source": [
    "!pip install pybit"
   ]
  },
  {
   "cell_type": "code",
   "execution_count": null,
   "id": "646b6cc4-7399-4701-af96-d08b0c22841d",
   "metadata": {
    "scrolled": true
   },
   "outputs": [],
   "source": [
    "from pybit.unified_trading import HTTP\n",
    "import pandas as pd\n",
    "from datetime import datetime, timedelta\n",
    "\n",
    "# Khởi tạo phiên làm việc với testnet\n",
    "session = HTTP(testnet=True)\n",
    "\n",
    "# Định nghĩa các tham số để lấy dữ liệu\n",
    "category = \"inverse\"\n",
    "symbols = ['BTCUSD', 'AVAXUSDT', 'AXSUSDT', 'BNBUSDT'] \n",
    "interval = 60  # khoảng thời gian 60 phút\n",
    "\n",
    "# Đặt thời gian bắt đầu và kết thúc\n",
    "start_date = \"2024-01-01\"\n",
    "end_date = \"2024-06-01\"\n",
    "\n",
    "# Chuyển đổi thời gian sang định dạng milliseconds\n",
    "start_timestamp = int(pd.Timestamp(start_date).timestamp() * 1000)  # milliseconds\n",
    "end_timestamp = int(pd.Timestamp(end_date).timestamp() * 1000)  # milliseconds\n",
    "\n",
    "# Số milliseconds trong 1 tuần\n",
    "one_week_ms = 7 * 24 * 60 * 60 * 1000\n",
    "\n",
    "# Khởi tạo danh sách để chứa tất cả các dữ liệu nến từ các cặp tiền\n",
    "all_data = []\n",
    "\n",
    "# Lặp qua từng cặp tiền trong danh sách\n",
    "for symbol in symbols:\n",
    "    print(f\"Đang lấy dữ liệu cho cặp tiền: {symbol}\")\n",
    "    \n",
    "    # Khởi tạo danh sách để chứa dữ liệu nến cho từng cặp tiền\n",
    "    all_candles = []\n",
    "    \n",
    "    # Lặp qua từng khoảng thời gian 1 tuần và lấy dữ liệu\n",
    "    current_start = start_timestamp\n",
    "    while current_start < end_timestamp:\n",
    "        current_end = min(current_start + one_week_ms, end_timestamp)\n",
    "        \n",
    "        # Lấy dữ liệu nến từ API\n",
    "        response = session.get_kline(\n",
    "            category=category,\n",
    "            symbol=symbol,\n",
    "            interval=interval,\n",
    "            start=current_start,\n",
    "            end=current_end,\n",
    "        )\n",
    "        \n",
    "        # Kiểm tra phản hồi và xử lý dữ liệu\n",
    "        if response['retCode'] == 0 and 'list' in response['result']:\n",
    "            candles = response['result']['list']\n",
    "            all_candles.extend(candles)  # Thêm dữ liệu vào danh sách chung\n",
    "        else:\n",
    "            print(f\"Không có dữ liệu nến hoặc có lỗi trong phản hồi cho khoảng {pd.to_datetime(current_start, unit='ms')} đến {pd.to_datetime(current_end, unit='ms')} cho cặp {symbol}.\")\n",
    "        \n",
    "        # Cập nhật thời gian bắt đầu cho tuần tiếp theo\n",
    "        current_start = current_end\n",
    "    \n",
    "    # Chuyển đổi dữ liệu thành DataFrame nếu có dữ liệu\n",
    "    if all_candles:\n",
    "        df = pd.DataFrame(all_candles, columns=['Time (UTC+3)', 'Open Price', 'Highest Price', 'Lowest Price', 'Close Price', 'Trade Volume', 'Another Value'])\n",
    "\n",
    "        # Định dạng lại cột thời gian theo mẫu \"YYYY.MM.DD HH:MM\"\n",
    "        df['Time (UTC+3)'] = df['Time (UTC+3)'].dt.strftime('%Y.%m.%d %H:%M')\n",
    "\n",
    "        # Chọn cột cần thiết\n",
    "        df = df[['Time (UTC+3)', 'Open Price', 'Highest Price', 'Lowest Price', 'Close Price', 'Trade Volume']]\n",
    "\n",
    "        # Đổi kiểu dữ liệu cho các cột số\n",
    "        df[['Open Price', 'Highest Price', 'Lowest Price', 'Close Price', 'Trade Volume']] = df[['Open Price', 'Highest Price', 'Lowest Price', 'Close Price', 'Trade Volume']].astype(float)\n",
    "\n",
    "        # Thêm cột 'Symbol' để đánh dấu cặp tiền cho dữ liệu này\n",
    "        df['Symbol'] = symbol\n",
    "        \n",
    "        # Thêm dữ liệu vào danh sách chung\n",
    "        all_data.append(df)\n",
    "    else:\n",
    "        print(f\"Không có dữ liệu nến nào cho cặp tiền {symbol} trong khoảng thời gian yêu cầu.\")\n",
    "\n",
    "# Kết hợp tất cả dữ liệu từ các cặp tiền thành một DataFrame lớn\n",
    "if all_data:\n",
    "    combined_df = pd.concat(all_data, ignore_index=True)\n",
    "    \n",
    "    # Hiển thị DataFrame kết hợp\n",
    "    print(combined_df)\n",
    "else:\n",
    "    print(\"Không có dữ liệu nến nào cho tất cả các cặp tiền trong khoảng thời gian yêu cầu.\")\n"
   ]
  },
  {
   "cell_type": "code",
   "execution_count": null,
   "id": "5e260714-b41c-42cb-8009-757a90b60d8e",
   "metadata": {},
   "outputs": [],
   "source": []
  },
  {
   "cell_type": "code",
   "execution_count": null,
   "id": "74525d95-bc53-42b2-822a-0a139b1a1ed4",
   "metadata": {},
   "outputs": [],
   "source": []
  }
 ],
 "metadata": {
  "kernelspec": {
   "display_name": "Python 3 (ipykernel)",
   "language": "python",
   "name": "python3"
  },
  "language_info": {
   "codemirror_mode": {
    "name": "ipython",
    "version": 3
   },
   "file_extension": ".py",
   "mimetype": "text/x-python",
   "name": "python",
   "nbconvert_exporter": "python",
   "pygments_lexer": "ipython3",
   "version": "3.11.5"
  }
 },
 "nbformat": 4,
 "nbformat_minor": 5
}
