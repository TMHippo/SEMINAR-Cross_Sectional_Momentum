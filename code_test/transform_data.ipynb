{
 "cells": [
  {
   "cell_type": "code",
   "execution_count": 27,
   "metadata": {},
   "outputs": [],
   "source": [
    "import pandas as pd \n",
    "import numpy\n",
    "import os"
   ]
  },
  {
   "cell_type": "code",
   "execution_count": 35,
   "metadata": {},
   "outputs": [
    {
     "name": "stdout",
     "output_type": "stream",
     "text": [
      "         Ngày Lần cuối     Mở    Cao   Thấp       KL % Thay đổi  file_name\n",
      "0  01/09/2024    27.73   22.8  30.82  20.52   98.39M     21.66%  Avalanche\n",
      "1  01/08/2024     22.8  25.72  27.98  17.35  124.76M    -11.35%  Avalanche\n",
      "2  01/07/2024    25.71  29.38  32.96  22.01  295.29M    -12.47%  Avalanche\n",
      "3  01/06/2024    29.38  36.02  37.18   23.6  121.66M    -19.12%  Avalanche\n",
      "4  01/05/2024    36.32   32.7  41.74  30.65  117.67M     11.10%  Avalanche\n"
     ]
    }
   ],
   "source": [
    "source1 = os.listdir(\"../data_cypto\")\n",
    "# Khởi tạo danh sách để lưu các DataFrame\n",
    "dataframes = []\n",
    "\n",
    "# Duyệt qua từng file CSV và thêm cột tên file\n",
    "for file in source1:\n",
    "    \n",
    "    df = pd.read_csv(\"../data_cypto/\" + file)\n",
    "    \n",
    "    df['file_name'] = file.replace('Dữ liệu Lịch sử', '').replace('.csv', '').strip()\n",
    "    \n",
    "    # Thêm DataFrame vào danh sách\n",
    "    dataframes.append(df)\n",
    "\n",
    "# Gộp tất cả các DataFrame lại thành một\n",
    "merged_df = pd.concat(dataframes, ignore_index=True)\n",
    "\n",
    "# Xuất DataFrame sau khi merge ra file CSV (nếu cần)\n",
    "# merged_df.to_csv('merged_crypto_data.csv', index=False)\n",
    "# In ra thông tin DataFrame sau khi merge\n",
    "print(merged_df.head())\n"
   ]
  },
  {
   "cell_type": "code",
   "execution_count": 36,
   "metadata": {},
   "outputs": [
    {
     "data": {
      "text/plain": [
       "(262, 8)"
      ]
     },
     "execution_count": 36,
     "metadata": {},
     "output_type": "execute_result"
    }
   ],
   "source": [
    "merged_df.shape"
   ]
  },
  {
   "cell_type": "code",
   "execution_count": null,
   "metadata": {},
   "outputs": [],
   "source": []
  }
 ],
 "metadata": {
  "kernelspec": {
   "display_name": "Python 3",
   "language": "python",
   "name": "python3"
  },
  "language_info": {
   "codemirror_mode": {
    "name": "ipython",
    "version": 3
   },
   "file_extension": ".py",
   "mimetype": "text/x-python",
   "name": "python",
   "nbconvert_exporter": "python",
   "pygments_lexer": "ipython3",
   "version": "3.12.5"
  }
 },
 "nbformat": 4,
 "nbformat_minor": 2
}
