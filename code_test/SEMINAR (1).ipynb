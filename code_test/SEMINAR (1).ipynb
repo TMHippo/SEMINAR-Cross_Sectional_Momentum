{
 "cells": [
  {
   "cell_type": "code",
   "execution_count": 2,
   "id": "1185197d-c547-492a-b9e1-dac058346d51",
   "metadata": {},
   "outputs": [
    {
     "name": "stdout",
     "output_type": "stream",
     "text": [
      "Collecting pybit\n",
      "  Using cached pybit-5.8.0-py2.py3-none-any.whl\n",
      "Requirement already satisfied: requests in c:\\users\\admin\\anaconda3\\lib\\site-packages (from pybit) (2.31.0)\n",
      "Requirement already satisfied: websocket-client in c:\\users\\admin\\anaconda3\\lib\\site-packages (from pybit) (0.58.0)\n",
      "Requirement already satisfied: pycryptodome in c:\\users\\admin\\anaconda3\\lib\\site-packages (from pybit) (3.20.0)\n",
      "Requirement already satisfied: charset-normalizer<4,>=2 in c:\\users\\admin\\anaconda3\\lib\\site-packages (from requests->pybit) (2.0.4)\n",
      "Requirement already satisfied: idna<4,>=2.5 in c:\\users\\admin\\anaconda3\\lib\\site-packages (from requests->pybit) (3.4)\n",
      "Requirement already satisfied: urllib3<3,>=1.21.1 in c:\\users\\admin\\anaconda3\\lib\\site-packages (from requests->pybit) (1.26.18)\n",
      "Requirement already satisfied: certifi>=2017.4.17 in c:\\users\\admin\\anaconda3\\lib\\site-packages (from requests->pybit) (2023.11.17)\n",
      "Requirement already satisfied: six in c:\\users\\admin\\anaconda3\\lib\\site-packages (from websocket-client->pybit) (1.16.0)\n",
      "Installing collected packages: pybit\n",
      "Successfully installed pybit-5.8.0\n"
     ]
    }
   ],
   "source": [
    "!pip install pybit"
   ]
  },
  {
   "cell_type": "code",
   "execution_count": 2,
   "id": "646b6cc4-7399-4701-af96-d08b0c22841d",
   "metadata": {
    "scrolled": true
   },
   "outputs": [
    {
     "name": "stdout",
     "output_type": "stream",
     "text": [
      "Đang lấy dữ liệu cho cặp tiền: BTCUSD\n"
     ]
    },
    {
     "name": "stderr",
     "output_type": "stream",
     "text": [
      "C:\\Users\\ADMIN\\AppData\\Local\\Temp\\ipykernel_30840\\1864293240.py:62: FutureWarning: The behavior of 'to_datetime' with 'unit' when parsing strings is deprecated. In a future version, strings will be parsed as datetime strings, matching the behavior without a 'unit'. To retain the old behavior, explicitly cast ints or floats to numeric type before calling to_datetime.\n",
      "  df['Time (UTC+3)'] = pd.to_datetime(df['Time (UTC+3)'], unit='ms').dt.tz_localize('UTC').dt.tz_convert('Etc/GMT-3')\n"
     ]
    },
    {
     "name": "stdout",
     "output_type": "stream",
     "text": [
      "Đang lấy dữ liệu cho cặp tiền: AVAXUSDT\n"
     ]
    },
    {
     "name": "stderr",
     "output_type": "stream",
     "text": [
      "C:\\Users\\ADMIN\\AppData\\Local\\Temp\\ipykernel_30840\\1864293240.py:62: FutureWarning: The behavior of 'to_datetime' with 'unit' when parsing strings is deprecated. In a future version, strings will be parsed as datetime strings, matching the behavior without a 'unit'. To retain the old behavior, explicitly cast ints or floats to numeric type before calling to_datetime.\n",
      "  df['Time (UTC+3)'] = pd.to_datetime(df['Time (UTC+3)'], unit='ms').dt.tz_localize('UTC').dt.tz_convert('Etc/GMT-3')\n"
     ]
    },
    {
     "name": "stdout",
     "output_type": "stream",
     "text": [
      "Đang lấy dữ liệu cho cặp tiền: AXSUSDT\n"
     ]
    },
    {
     "name": "stderr",
     "output_type": "stream",
     "text": [
      "C:\\Users\\ADMIN\\AppData\\Local\\Temp\\ipykernel_30840\\1864293240.py:62: FutureWarning: The behavior of 'to_datetime' with 'unit' when parsing strings is deprecated. In a future version, strings will be parsed as datetime strings, matching the behavior without a 'unit'. To retain the old behavior, explicitly cast ints or floats to numeric type before calling to_datetime.\n",
      "  df['Time (UTC+3)'] = pd.to_datetime(df['Time (UTC+3)'], unit='ms').dt.tz_localize('UTC').dt.tz_convert('Etc/GMT-3')\n"
     ]
    },
    {
     "name": "stdout",
     "output_type": "stream",
     "text": [
      "Đang lấy dữ liệu cho cặp tiền: BNBUSDT\n"
     ]
    },
    {
     "name": "stderr",
     "output_type": "stream",
     "text": [
      "C:\\Users\\ADMIN\\AppData\\Local\\Temp\\ipykernel_30840\\1864293240.py:62: FutureWarning: The behavior of 'to_datetime' with 'unit' when parsing strings is deprecated. In a future version, strings will be parsed as datetime strings, matching the behavior without a 'unit'. To retain the old behavior, explicitly cast ints or floats to numeric type before calling to_datetime.\n",
      "  df['Time (UTC+3)'] = pd.to_datetime(df['Time (UTC+3)'], unit='ms').dt.tz_localize('UTC').dt.tz_convert('Etc/GMT-3')\n"
     ]
    },
    {
     "name": "stdout",
     "output_type": "stream",
     "text": [
      "           Time (UTC+3)  Open Price  Highest Price  Lowest Price  Close Price  \\\n",
      "0      2024.01.08 02:59     43946.0        44003.0       43656.5      43656.5   \n",
      "1      2024.01.08 02:00     43893.5        44046.0       43636.5      43946.0   \n",
      "2      2024.01.08 00:59     44259.5        44259.5       43813.0      43893.5   \n",
      "3      2024.01.08 00:00     44147.5        44272.0       44146.5      44259.5   \n",
      "4      2024.01.07 22:59     44262.0        44292.0       44147.5      44147.5   \n",
      "...                 ...         ...            ...           ...          ...   \n",
      "14675  2024.05.27 06:59       605.5          606.5         604.0        604.0   \n",
      "14676  2024.05.27 06:00       605.5          607.0         604.5        605.5   \n",
      "14677  2024.05.27 04:59       603.5          606.5         603.0        605.5   \n",
      "14678  2024.05.27 04:00       601.5          604.5         600.5        603.5   \n",
      "14679  2024.05.27 02:59       600.0          602.5         599.5        601.5   \n",
      "\n",
      "       Trade Volume   Symbol  \n",
      "0       41759487.00   BTCUSD  \n",
      "1       56790177.00   BTCUSD  \n",
      "2       31541005.00   BTCUSD  \n",
      "3        9096632.00   BTCUSD  \n",
      "4        4753852.00   BTCUSD  \n",
      "...             ...      ...  \n",
      "14675      13636.44  BNBUSDT  \n",
      "14676      17272.25  BNBUSDT  \n",
      "14677      18363.84  BNBUSDT  \n",
      "14678      12325.85  BNBUSDT  \n",
      "14679       9233.87  BNBUSDT  \n",
      "\n",
      "[14680 rows x 7 columns]\n"
     ]
    }
   ],
   "source": [
    "from pybit.unified_trading import HTTP\n",
    "import pandas as pd\n",
    "from datetime import datetime, timedelta\n",
    "\n",
    "# Khởi tạo phiên làm việc với testnet\n",
    "session = HTTP(testnet=True)\n",
    "\n",
    "# Định nghĩa các tham số để lấy dữ liệu\n",
    "category = \"inverse\"\n",
    "symbols = ['BTCUSD', 'AVAXUSDT', 'AXSUSDT', 'BNBUSDT']  # Danh sách các cặp tiền\n",
    "interval = 60  # khoảng thời gian 60 phút\n",
    "\n",
    "# Đặt thời gian bắt đầu và kết thúc\n",
    "start_date = \"2024-01-01\"\n",
    "end_date = \"2024-06-01\"\n",
    "\n",
    "# Chuyển đổi thời gian sang định dạng milliseconds\n",
    "start_timestamp = int(pd.Timestamp(start_date).timestamp() * 1000)  # milliseconds\n",
    "end_timestamp = int(pd.Timestamp(end_date).timestamp() * 1000)  # milliseconds\n",
    "\n",
    "# Số milliseconds trong 1 tuần\n",
    "one_week_ms = 7 * 24 * 60 * 60 * 1000\n",
    "\n",
    "# Khởi tạo danh sách để chứa tất cả các dữ liệu nến từ các cặp tiền\n",
    "all_data = []\n",
    "\n",
    "# Lặp qua từng cặp tiền trong danh sách\n",
    "for symbol in symbols:\n",
    "    print(f\"Đang lấy dữ liệu cho cặp tiền: {symbol}\")\n",
    "    \n",
    "    # Khởi tạo danh sách để chứa dữ liệu nến cho từng cặp tiền\n",
    "    all_candles = []\n",
    "    \n",
    "    # Lặp qua từng khoảng thời gian 1 tuần và lấy dữ liệu\n",
    "    current_start = start_timestamp\n",
    "    while current_start < end_timestamp:\n",
    "        current_end = min(current_start + one_week_ms, end_timestamp)\n",
    "        \n",
    "        # Lấy dữ liệu nến từ API\n",
    "        response = session.get_kline(\n",
    "            category=category,\n",
    "            symbol=symbol,\n",
    "            interval=interval,\n",
    "            start=current_start,\n",
    "            end=current_end,\n",
    "        )\n",
    "        \n",
    "        # Kiểm tra phản hồi và xử lý dữ liệu\n",
    "        if response['retCode'] == 0 and 'list' in response['result']:\n",
    "            candles = response['result']['list']\n",
    "            all_candles.extend(candles)  # Thêm dữ liệu vào danh sách chung\n",
    "        else:\n",
    "            print(f\"Không có dữ liệu nến hoặc có lỗi trong phản hồi cho khoảng {pd.to_datetime(current_start, unit='ms')} đến {pd.to_datetime(current_end, unit='ms')} cho cặp {symbol}.\")\n",
    "        \n",
    "        # Cập nhật thời gian bắt đầu cho tuần tiếp theo\n",
    "        current_start = current_end\n",
    "    \n",
    "    # Chuyển đổi dữ liệu thành DataFrame nếu có dữ liệu\n",
    "    if all_candles:\n",
    "        df = pd.DataFrame(all_candles, columns=['Time (UTC+3)', 'Open Price', 'Highest Price', 'Lowest Price', 'Close Price', 'Trade Volume', 'Another Value'])\n",
    "        # Chuyển đổi cột thời gian từ milliseconds sang định dạng datetime\n",
    "        df['Time (UTC+3)'] = pd.to_datetime(df['Time (UTC+3)'], unit='ms').dt.tz_localize('UTC').dt.tz_convert('Etc/GMT-3')\n",
    "        # Định dạng lại cột thời gian theo mẫu \"YYYY.MM.DD HH:MM\"\n",
    "        df['Time (UTC+3)'] = df['Time (UTC+3)'].dt.strftime('%Y.%m.%d %H:%M')\n",
    "\n",
    "        # Chọn cột cần thiết\n",
    "        df = df[['Time (UTC+3)', 'Open Price', 'Highest Price', 'Lowest Price', 'Close Price', 'Trade Volume']]\n",
    "\n",
    "        # Đổi kiểu dữ liệu cho các cột số\n",
    "        df[['Open Price', 'Highest Price', 'Lowest Price', 'Close Price', 'Trade Volume']] = df[['Open Price', 'Highest Price', 'Lowest Price', 'Close Price', 'Trade Volume']].astype(float)\n",
    "\n",
    "        # Thêm cột 'Symbol' để đánh dấu cặp tiền cho dữ liệu này\n",
    "        df['Symbol'] = symbol\n",
    "        \n",
    "        # Thêm dữ liệu vào danh sách chung\n",
    "        all_data.append(df)\n",
    "    else:\n",
    "        print(f\"Không có dữ liệu nến nào cho cặp tiền {symbol} trong khoảng thời gian yêu cầu.\")\n",
    "\n",
    "# Kết hợp tất cả dữ liệu từ các cặp tiền thành một DataFrame lớn\n",
    "if all_data:\n",
    "    combined_df = pd.concat(all_data, ignore_index=True)\n",
    "    \n",
    "    # Hiển thị DataFrame kết hợp\n",
    "    print(combined_df)\n",
    "else:\n",
    "    print(\"Không có dữ liệu nến nào cho tất cả các cặp tiền trong khoảng thời gian yêu cầu.\")\n"
   ]
  },
  {
   "cell_type": "code",
   "execution_count": null,
   "id": "5e260714-b41c-42cb-8009-757a90b60d8e",
   "metadata": {},
   "outputs": [],
   "source": []
  },
  {
   "cell_type": "code",
   "execution_count": null,
   "id": "74525d95-bc53-42b2-822a-0a139b1a1ed4",
   "metadata": {},
   "outputs": [],
   "source": []
  }
 ],
 "metadata": {
  "kernelspec": {
   "display_name": "Python 3 (ipykernel)",
   "language": "python",
   "name": "python3"
  },
  "language_info": {
   "codemirror_mode": {
    "name": "ipython",
    "version": 3
   },
   "file_extension": ".py",
   "mimetype": "text/x-python",
   "name": "python",
   "nbconvert_exporter": "python",
   "pygments_lexer": "ipython3",
   "version": "3.11.5"
  }
 },
 "nbformat": 4,
 "nbformat_minor": 5
}
