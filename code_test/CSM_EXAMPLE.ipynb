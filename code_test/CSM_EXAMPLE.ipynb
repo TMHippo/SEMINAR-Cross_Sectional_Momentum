{
 "cells": [
  {
   "cell_type": "code",
   "execution_count": 1,
   "metadata": {},
   "outputs": [
    {
     "name": "stdout",
     "output_type": "stream",
     "text": [
      "Lợi nhuận trung bình (Momentum):\n",
      "Stock_A: 0.0194\n",
      "Stock_B: 0.0125\n",
      "Stock_C: 0.0197\n",
      "\n",
      "Xếp hạng cổ phiếu dựa trên Momentum:\n",
      "Rank 1: Stock_C với Momentum 0.0197\n",
      "Rank 2: Stock_A với Momentum 0.0194\n",
      "Rank 3: Stock_B với Momentum 0.0125\n"
     ]
    }
   ],
   "source": [
    "# Dữ liệu mẫu: giá hàng ngày của nhiều tài sản\n",
    "data = {\n",
    "    'Stock_A': [100, 102, 104, 106, 108],\n",
    "    'Stock_B': [200, 198, 196, 202, 210],\n",
    "    'Stock_C': [50, 52, 51, 53, 54]\n",
    "}\n",
    "\n",
    "# Bước 1: Tính toán lợi nhuận hàng ngày cho từng tài sản\n",
    "def calculate_returns(prices):\n",
    "    returns = []\n",
    "    for i in range(1, len(prices)):\n",
    "        # Tính lợi nhuận theo công thức (Giá hôm nay / Giá hôm qua) - 1\n",
    "        daily_return = (prices[i] / prices[i - 1]) - 1\n",
    "        returns.append(daily_return)\n",
    "    return returns\n",
    "\n",
    "# Tính toán lợi nhuận cho từng cổ phiếu\n",
    "returns_data = {}\n",
    "for stock, prices in data.items():\n",
    "    returns_data[stock] = calculate_returns(prices)\n",
    "\n",
    "# Bước 2: Tính toán momentum cho từng cổ phiếu (lợi nhuận trung bình)\n",
    "def calculate_momentum(returns):\n",
    "    return sum(returns) / len(returns)\n",
    "\n",
    "momentum_data = {}\n",
    "for stock, returns in returns_data.items():\n",
    "    momentum_data[stock] = calculate_momentum(returns)\n",
    "\n",
    "# Bước 3: Xếp hạng các cổ phiếu dựa trên momentum\n",
    "def rank_stocks(momentum_data):\n",
    "    # Sắp xếp các cổ phiếu dựa trên momentum từ cao đến thấp\n",
    "    ranked_stocks = sorted(momentum_data.items(), key=lambda x: x[1], reverse=True)\n",
    "    return ranked_stocks\n",
    "\n",
    "ranked_stocks = rank_stocks(momentum_data)\n",
    "\n",
    "# Kết quả\n",
    "print(\"Lợi nhuận trung bình (Momentum):\")\n",
    "for stock, momentum in momentum_data.items():\n",
    "    print(f\"{stock}: {momentum:.4f}\")\n",
    "\n",
    "print(\"\\nXếp hạng cổ phiếu dựa trên Momentum:\")\n",
    "for rank, (stock, momentum) in enumerate(ranked_stocks, start=1):\n",
    "    print(f\"Rank {rank}: {stock} với Momentum {momentum:.4f}\")\n"
   ]
  },
  {
   "cell_type": "code",
   "execution_count": 2,
   "metadata": {},
   "outputs": [
    {
     "name": "stdout",
     "output_type": "stream",
     "text": [
      "Lợi nhuận trung bình (Momentum):\n",
      " Stock_A    0.019427\n",
      "Stock_B    0.012529\n",
      "Stock_C    0.019713\n",
      "dtype: float64\n",
      "\n",
      "Xếp hạng cổ phiếu dựa trên Momentum:\n",
      " Stock_A    2.0\n",
      "Stock_B    3.0\n",
      "Stock_C    1.0\n",
      "dtype: float64\n"
     ]
    }
   ],
   "source": [
    "import pandas as pd\n",
    "import numpy as np\n",
    "\n",
    "# Dữ liệu mẫu: giá hàng ngày của nhiều cổ phiếu\n",
    "data = {\n",
    "    'Date': ['2024-01-01', '2024-01-02', '2024-01-03', '2024-01-04', '2024-01-05'],\n",
    "    'Stock_A': [100, 102, 104, 106, 108],\n",
    "    'Stock_B': [200, 198, 196, 202, 210],\n",
    "    'Stock_C': [50, 52, 51, 53, 54]\n",
    "}\n",
    "\n",
    "# Tạo DataFrame\n",
    "df = pd.DataFrame(data)\n",
    "df['Date'] = pd.to_datetime(df['Date'])\n",
    "df.set_index('Date', inplace=True)\n",
    "\n",
    "# Bước 1: Tính toán lợi nhuận hàng ngày\n",
    "returns = df.pct_change().dropna()\n",
    "\n",
    "# Bước 2: Tính momentum (lợi nhuận trung bình cho mỗi cổ phiếu)\n",
    "momentum = returns.mean()\n",
    "\n",
    "# Bước 3: Xếp hạng các cổ phiếu dựa trên momentum\n",
    "ranked_stocks = momentum.rank(ascending=False)\n",
    "\n",
    "# Kết quả\n",
    "print(\"Lợi nhuận trung bình (Momentum):\\n\", momentum)\n",
    "print(\"\\nXếp hạng cổ phiếu dựa trên Momentum:\\n\", ranked_stocks)\n"
   ]
  },
  {
   "cell_type": "code",
   "execution_count": null,
   "metadata": {},
   "outputs": [],
   "source": []
  }
 ],
 "metadata": {
  "kernelspec": {
   "display_name": "Python 3",
   "language": "python",
   "name": "python3"
  },
  "language_info": {
   "codemirror_mode": {
    "name": "ipython",
    "version": 3
   },
   "file_extension": ".py",
   "mimetype": "text/x-python",
   "name": "python",
   "nbconvert_exporter": "python",
   "pygments_lexer": "ipython3",
   "version": "3.12.5"
  }
 },
 "nbformat": 4,
 "nbformat_minor": 2
}
